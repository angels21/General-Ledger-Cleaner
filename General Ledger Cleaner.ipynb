{
 "cells": [
  {
   "cell_type": "code",
   "execution_count": null,
   "id": "fb57b7d3",
   "metadata": {},
   "outputs": [],
   "source": [
    "import pandas as pd\n",
    "import numpy as np"
   ]
  },
  {
   "cell_type": "code",
   "execution_count": null,
   "id": "22bde75c",
   "metadata": {},
   "outputs": [],
   "source": [
    "# Load data from Excel into a DataFrame\n",
    "file_path = r'C:\\Users\\20735\\Customers_Data\\Customers_DataU\\0122 Vendors for matching.xlsx'\n",
    "df = pd.read_excel(file_path)\n"
   ]
  },
  {
   "cell_type": "code",
   "execution_count": null,
   "id": "9508de22",
   "metadata": {},
   "outputs": [],
   "source": [
    "# Access the column by its header name\n",
    "column_name = 'Amount in doc. curr.'\n",
    "\n",
    "# Get the data type of the column\n",
    "column_data_type = df[column_name].dtype\n",
    "# Print the data type\n",
    "print(f\"Data type of column '{column_name}': {column_data_type}\")"
   ]
  },
  {
   "cell_type": "code",
   "execution_count": null,
   "id": "94964c49",
   "metadata": {},
   "outputs": [],
   "source": [
    "# Define group conditions\n",
    "group_conditions = ['Company Code', 'Account', 'Vendor', 'Text']"
   ]
  },
  {
   "cell_type": "code",
   "execution_count": null,
   "id": "9d443c9e",
   "metadata": {},
   "outputs": [],
   "source": [
    "#Group the DataFrame based on the conditions\n",
    "groups = df.groupby(group_conditions)"
   ]
  },
  {
   "cell_type": "code",
   "execution_count": null,
   "id": "bebec981",
   "metadata": {},
   "outputs": [],
   "source": [
    "# Initialize sets to store row indices already added to DataFrames\n",
    "added_indices = set()"
   ]
  },
  {
   "cell_type": "code",
   "execution_count": null,
   "id": "7874fe29",
   "metadata": {},
   "outputs": [],
   "source": [
    "# Initialize lists to store rows with zero sum, non-zero sum, and ungrouped rows\n",
    "zero_sum_rows = []\n",
    "non_zero_sum_rows = []\n",
    "ungrouped_rows = []"
   ]
  },
  {
   "cell_type": "code",
   "execution_count": null,
   "id": "1a63081c",
   "metadata": {},
   "outputs": [],
   "source": [
    "# Iterate through each row in the original DataFrame\n",
    "for index, row in df.iterrows():\n",
    "    # Extract group key from the row, handling NaN values\n",
    "    row_key = tuple(row[condition] if pd.notna(row[condition]) else None for condition in group_conditions)\n",
    "    \n",
    "    # Check if the row belongs to any group\n",
    "    if row_key in groups.groups:\n",
    "        # Check if the row index has already been added to any DataFrame\n",
    "        if index not in added_indices:\n",
    "            # Check if the sum of \"Amount in doc. curr.\" column is zero for the group\n",
    "            if groups.get_group(row_key)['Amount in doc. curr.'].sum() == 0.0000000000000:\n",
    "                zero_sum_rows.append(row.tolist())\n",
    "            else:\n",
    "                non_zero_sum_rows.append(row.tolist())\n",
    "            # Add the row index to the set of added indices\n",
    "            added_indices.add(index)\n",
    "    else:\n",
    "        # If the row doesn't belong to any group, add it to ungrouped_rows\n",
    "        ungrouped_rows.append(row.tolist())\n",
    "        # Add the row index to the set of added indices\n",
    "        added_indices.add(index)"
   ]
  },
  {
   "cell_type": "code",
   "execution_count": null,
   "id": "7d38d30f",
   "metadata": {},
   "outputs": [],
   "source": [
    "# Convert the lists to DataFrames\n",
    "zero_sum_df = pd.DataFrame(zero_sum_rows, columns=df.columns)\n",
    "non_zero_sum_df = pd.DataFrame(non_zero_sum_rows, columns=df.columns)\n",
    "ungrouped_df = pd.DataFrame(ungrouped_rows, columns=df.columns)\n"
   ]
  },
  {
   "cell_type": "code",
   "execution_count": null,
   "id": "599bc1f9",
   "metadata": {},
   "outputs": [],
   "source": [
    "# Concatenate zero_sum_df, non_zero_sum_df, and ungrouped_df\n",
    "combined_df = pd.concat([zero_sum_df, non_zero_sum_df, ungrouped_df])"
   ]
  },
  {
   "cell_type": "code",
   "execution_count": null,
   "id": "bdfe46ab",
   "metadata": {},
   "outputs": [],
   "source": [
    "all_open_items_df = pd.concat([non_zero_sum_df,ungrouped_df])"
   ]
  },
  {
   "cell_type": "code",
   "execution_count": null,
   "id": "56a3b9f4",
   "metadata": {},
   "outputs": [],
   "source": [
    "print(zero_sum_df)"
   ]
  },
  {
   "cell_type": "code",
   "execution_count": null,
   "id": "1094d924",
   "metadata": {},
   "outputs": [],
   "source": [
    "print(non_zero_sum_df)"
   ]
  },
  {
   "cell_type": "code",
   "execution_count": null,
   "id": "3af68894",
   "metadata": {},
   "outputs": [],
   "source": [
    "print(all_open_items_df)"
   ]
  },
  {
   "cell_type": "code",
   "execution_count": null,
   "id": "ee5fd894",
   "metadata": {},
   "outputs": [],
   "source": [
    "print(ungrouped_df)"
   ]
  },
  {
   "cell_type": "code",
   "execution_count": null,
   "id": "197de3d0",
   "metadata": {},
   "outputs": [],
   "source": [
    "print(combined_df)"
   ]
  },
  {
   "cell_type": "code",
   "execution_count": null,
   "id": "a3b0e651",
   "metadata": {},
   "outputs": [],
   "source": [
    "# Save the combined result in a new Excel file in 3 separate sheets\n",
    "output_file = r'C:\\Users\\20735\\Customers_Data\\Customers_DataC\\0122 Vendors for matching.xlsx'\n",
    "with pd.ExcelWriter(output_file) as writer:\n",
    "    zero_sum_df.to_excel(writer, sheet_name='Cleared items', index=False)\n",
    "    #non_zero_sum_df.to_excel(writer, sheet_name='Open items sorted', index=False)\n",
    "    all_open_items_df.to_excel(writer, sheet_name='All open items', index=False)\n",
    "    combined_df.to_excel(writer, sheet_name='Combined', index=False)\n",
    "    #ungrouped_df.to_excel(writer, sheet_name='Ungrouped items,No parameters', index=False)"
   ]
  },
  {
   "cell_type": "code",
   "execution_count": null,
   "id": "1638d389",
   "metadata": {},
   "outputs": [],
   "source": [
    "print(output_file)"
   ]
  }
 ],
 "metadata": {
  "kernelspec": {
   "display_name": "Python 3 (ipykernel)",
   "language": "python",
   "name": "python3"
  },
  "language_info": {
   "codemirror_mode": {
    "name": "ipython",
    "version": 3
   },
   "file_extension": ".py",
   "mimetype": "text/x-python",
   "name": "python",
   "nbconvert_exporter": "python",
   "pygments_lexer": "ipython3",
   "version": "3.11.5"
  }
 },
 "nbformat": 4,
 "nbformat_minor": 5
}
