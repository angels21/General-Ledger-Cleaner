{
 "cells": [
  {
   "cell_type": "code",
   "execution_count": 1,
   "id": "fb57b7d3",
   "metadata": {},
   "outputs": [],
   "source": [
    "import pandas as pd\n",
    "import numpy as np"
   ]
  },
  {
   "cell_type": "code",
   "execution_count": 2,
   "id": "22bde75c",
   "metadata": {},
   "outputs": [],
   "source": [
    "# Load data from Excel into a DataFrame\n",
    "file_path = r'C:\\Users\\20735\\Customers_Data\\Customers_DataU\\0122 Vendors for matching.xlsx'\n",
    "df = pd.read_excel(file_path)\n"
   ]
  },
  {
   "cell_type": "code",
   "execution_count": 3,
   "id": "9508de22",
   "metadata": {},
   "outputs": [
    {
     "name": "stdout",
     "output_type": "stream",
     "text": [
      "Data type of column 'Amount in doc. curr.': float64\n"
     ]
    }
   ],
   "source": [
    "# Access the column by its header name\n",
    "column_name = 'Amount in doc. curr.'\n",
    "\n",
    "# Get the data type of the column\n",
    "column_data_type = df[column_name].dtype\n",
    "# Print the data type\n",
    "print(f\"Data type of column '{column_name}': {column_data_type}\")"
   ]
  },
  {
   "cell_type": "code",
   "execution_count": 4,
   "id": "94964c49",
   "metadata": {},
   "outputs": [],
   "source": [
    "# Define group conditions\n",
    "group_conditions = ['Company Code', 'Account', 'Vendor', 'Text']"
   ]
  },
  {
   "cell_type": "code",
   "execution_count": 5,
   "id": "9d443c9e",
   "metadata": {},
   "outputs": [],
   "source": [
    "#Group the DataFrame based on the conditions\n",
    "groups = df.groupby(group_conditions)"
   ]
  },
  {
   "cell_type": "code",
   "execution_count": 6,
   "id": "bebec981",
   "metadata": {},
   "outputs": [],
   "source": [
    "# Initialize sets to store row indices already added to DataFrames\n",
    "added_indices = set()"
   ]
  },
  {
   "cell_type": "code",
   "execution_count": 7,
   "id": "7874fe29",
   "metadata": {},
   "outputs": [],
   "source": [
    "# Initialize lists to store rows with zero sum, non-zero sum, and ungrouped rows\n",
    "zero_sum_rows = []\n",
    "non_zero_sum_rows = []\n",
    "ungrouped_rows = []"
   ]
  },
  {
   "cell_type": "code",
   "execution_count": 8,
   "id": "1a63081c",
   "metadata": {},
   "outputs": [],
   "source": [
    "# Iterate through each row in the original DataFrame\n",
    "for index, row in df.iterrows():\n",
    "    # Extract group key from the row, handling NaN values\n",
    "    row_key = tuple(row[condition] if pd.notna(row[condition]) else None for condition in group_conditions)\n",
    "    \n",
    "    # Check if the row belongs to any group\n",
    "    if row_key in groups.groups:\n",
    "        # Check if the row index has already been added to any DataFrame\n",
    "        if index not in added_indices:\n",
    "            # Check if the sum of \"Amount in doc. curr.\" column is zero for the group\n",
    "            if groups.get_group(row_key)['Amount in doc. curr.'].sum() == 0.0000000000000:\n",
    "                zero_sum_rows.append(row.tolist())\n",
    "            else:\n",
    "                non_zero_sum_rows.append(row.tolist())\n",
    "            # Add the row index to the set of added indices\n",
    "            added_indices.add(index)\n",
    "    else:\n",
    "        # If the row doesn't belong to any group, add it to ungrouped_rows\n",
    "        ungrouped_rows.append(row.tolist())\n",
    "        # Add the row index to the set of added indices\n",
    "        added_indices.add(index)"
   ]
  },
  {
   "cell_type": "code",
   "execution_count": 9,
   "id": "7d38d30f",
   "metadata": {},
   "outputs": [],
   "source": [
    "# Convert the lists to DataFrames\n",
    "zero_sum_df = pd.DataFrame(zero_sum_rows, columns=df.columns)\n",
    "non_zero_sum_df = pd.DataFrame(non_zero_sum_rows, columns=df.columns)\n",
    "ungrouped_df = pd.DataFrame(ungrouped_rows, columns=df.columns)\n"
   ]
  },
  {
   "cell_type": "code",
   "execution_count": 10,
   "id": "599bc1f9",
   "metadata": {},
   "outputs": [],
   "source": [
    "# Concatenate zero_sum_df, non_zero_sum_df, and ungrouped_df\n",
    "combined_df = pd.concat([zero_sum_df, non_zero_sum_df, ungrouped_df])"
   ]
  },
  {
   "cell_type": "code",
   "execution_count": 11,
   "id": "bdfe46ab",
   "metadata": {},
   "outputs": [],
   "source": [
    "all_open_items_df = pd.concat([non_zero_sum_df,ungrouped_df])"
   ]
  },
  {
   "cell_type": "code",
   "execution_count": 12,
   "id": "56a3b9f4",
   "metadata": {},
   "outputs": [
    {
     "name": "stdout",
     "output_type": "stream",
     "text": [
      "      Company Code  Account  Customer  Customer.1    Vendor   Vendor1  \\\n",
      "0              122  3010008       NaN         NaN  80001500       NaN   \n",
      "1              122  3010008       NaN         NaN  80001500  80001500   \n",
      "2              122  3010008       NaN         NaN  80001497       NaN   \n",
      "3              122  3010008       NaN         NaN  80001497  80001497   \n",
      "4              122  3010008       NaN         NaN  80001497       NaN   \n",
      "...            ...      ...       ...         ...       ...       ...   \n",
      "7207           122  3010008       NaN         NaN  80000134       NaN   \n",
      "7208           122  3010008       NaN         NaN  80000075       NaN   \n",
      "7209           122  3010008       NaN         NaN  80000075  80000075   \n",
      "7210           122  3010008       NaN         NaN  80000075       NaN   \n",
      "7211           122  3010008       NaN         NaN  80000075  80000075   \n",
      "\n",
      "      Customer/Vendor Name  Offsetting acct no. Document type  \\\n",
      "0                      NaN                  NaN            KZ   \n",
      "1           Ecctis Limited                  NaN            KR   \n",
      "2                      NaN                  NaN            KZ   \n",
      "3     West London Plumbing                  NaN            KR   \n",
      "4                      NaN                  NaN            KZ   \n",
      "...                    ...                  ...           ...   \n",
      "7207                   NaN                  NaN            KA   \n",
      "7208                   NaN                  NaN            KZ   \n",
      "7209       IHS GLOBAL INC.                  NaN            KR   \n",
      "7210                   NaN                  NaN            KZ   \n",
      "7211       IHS GLOBAL INC.                  NaN            KR   \n",
      "\n",
      "      Document Number  ... Profit Center Purchasing Document  Reference  \\\n",
      "0          1500000681  ...    P106001000                 NaN       BILL   \n",
      "1          3900000657  ...    P106001000                 NaN       BILL   \n",
      "2          1500000617  ...    P106001000                 NaN       BILL   \n",
      "3          3900000592  ...    P106001000                 NaN       BILL   \n",
      "4          1500000820  ...    P106001000                 NaN       BILL   \n",
      "...               ...  ...           ...                 ...        ...   \n",
      "7207       8700000061  ...    P106001000                 NaN        NaN   \n",
      "7208       1500000072  ...    P106001000                 NaN        NaN   \n",
      "7209       3900000070  ...    P106001000                 NaN       BILL   \n",
      "7210       1500000147  ...    P101000001                 NaN        NaN   \n",
      "7211       3900000140  ...    P101000001                 NaN       BILL   \n",
      "\n",
      "     Sales Document  Sort key Special G/L ind.  UAP Code  UAP Sub-Code  \\\n",
      "0               NaN        60              NaN       NaN           NaN   \n",
      "1               NaN        60              NaN       NaN           NaN   \n",
      "2               NaN        60              NaN       NaN           NaN   \n",
      "3               NaN        60              NaN       NaN           NaN   \n",
      "4               NaN        60              NaN       NaN           NaN   \n",
      "...             ...       ...              ...       ...           ...   \n",
      "7207            NaN        60              NaN       NaN           NaN   \n",
      "7208            NaN        60              NaN       NaN           NaN   \n",
      "7209            NaN        60              NaN       NaN           NaN   \n",
      "7210            NaN        60              NaN       NaN           NaN   \n",
      "7211            NaN        60              NaN       NaN           NaN   \n",
      "\n",
      "      User Name  Unnamed: 34  \n",
      "0         21468            V  \n",
      "1         21468            V  \n",
      "2         21468            V  \n",
      "3         21468            V  \n",
      "4         21468            V  \n",
      "...         ...          ...  \n",
      "7207      18181            V  \n",
      "7208      18181            V  \n",
      "7209      18181            V  \n",
      "7210      18181            V  \n",
      "7211      18181            V  \n",
      "\n",
      "[7212 rows x 35 columns]\n"
     ]
    }
   ],
   "source": [
    "print(zero_sum_df)"
   ]
  },
  {
   "cell_type": "code",
   "execution_count": 13,
   "id": "1094d924",
   "metadata": {},
   "outputs": [
    {
     "name": "stdout",
     "output_type": "stream",
     "text": [
      "      Company Code  Account  Customer  Customer.1    Vendor   Vendor1  \\\n",
      "0              122  3010004       NaN         NaN     V0125     V0125   \n",
      "1              122  3010004       NaN         NaN     V0125     V0125   \n",
      "2              122  3010004       NaN         NaN     V0125     V0125   \n",
      "3              122  3010004       NaN         NaN     V0125     V0125   \n",
      "4              122  3010004       NaN         NaN     V0125     V0125   \n",
      "...            ...      ...       ...         ...       ...       ...   \n",
      "2096           122  3010008       NaN         NaN  80000170  80000170   \n",
      "2097           122  3010008       NaN         NaN  80000170       NaN   \n",
      "2098           122  3010008       NaN         NaN  80000170       NaN   \n",
      "2099           122  3010008       NaN         NaN  80000170  80000170   \n",
      "2100           122  3010008       NaN         NaN  80000170  80000170   \n",
      "\n",
      "          Customer/Vendor Name  Offsetting acct no. Document type  \\\n",
      "0                     NNPC LTD                  NaN            AB   \n",
      "1                     NNPC LTD                  NaN            AB   \n",
      "2                     NNPC LTD                  NaN            AB   \n",
      "3                     NNPC LTD                  NaN            AB   \n",
      "4                     NNPC LTD                  NaN            AB   \n",
      "...                        ...                  ...           ...   \n",
      "2096  DUN & BRADSTREET LIMITED                  NaN            KR   \n",
      "2097                       NaN                  NaN            KZ   \n",
      "2098                       NaN                  NaN            KZ   \n",
      "2099  DUN & BRADSTREET LIMITED                  NaN            KR   \n",
      "2100  DUN & BRADSTREET LIMITED                  NaN            KR   \n",
      "\n",
      "      Document Number  ... Profit Center Purchasing Document  Reference  \\\n",
      "0           100000007  ...    P106001000                 NaN        NaN   \n",
      "1           100000015  ...    P106001000                 NaN        NaN   \n",
      "2           100000046  ...    P106001000                 NaN        NaN   \n",
      "3           100000062  ...    P106001000                 NaN        NaN   \n",
      "4           100000064  ...    P106001000                 NaN        NaN   \n",
      "...               ...  ...           ...                 ...        ...   \n",
      "2096       3900001038  ...    P106001000                 NaN   BILL CHQ   \n",
      "2097       1500000971  ...    P101330000                 NaN        NaN   \n",
      "2098       1500000971  ...    P106001000                 NaN        NaN   \n",
      "2099       3900001039  ...    P101330000                 NaN   BILL CHQ   \n",
      "2100       3900001039  ...    P106001000                 NaN   BILL CHQ   \n",
      "\n",
      "     Sales Document  Sort key Special G/L ind.  UAP Code  UAP Sub-Code  \\\n",
      "0               NaN       100              NaN       NaN           NaN   \n",
      "1               NaN       100              NaN       NaN           NaN   \n",
      "2               NaN       100              NaN       NaN           NaN   \n",
      "3               NaN       100              NaN       NaN           NaN   \n",
      "4               NaN       100              NaN       NaN           NaN   \n",
      "...             ...       ...              ...       ...           ...   \n",
      "2096            NaN        60              NaN       NaN           NaN   \n",
      "2097            NaN        60              NaN       NaN           NaN   \n",
      "2098            NaN        60              NaN       NaN           NaN   \n",
      "2099            NaN        60              NaN       NaN           NaN   \n",
      "2100            NaN        60              NaN       NaN           NaN   \n",
      "\n",
      "     User Name  Unnamed: 34  \n",
      "0        18181            V  \n",
      "1        18181            V  \n",
      "2        18181            V  \n",
      "3        18181            V  \n",
      "4        18181            V  \n",
      "...        ...          ...  \n",
      "2096     18181            V  \n",
      "2097     18181            V  \n",
      "2098     18181            V  \n",
      "2099     18181            V  \n",
      "2100     18181            V  \n",
      "\n",
      "[2101 rows x 35 columns]\n"
     ]
    }
   ],
   "source": [
    "print(non_zero_sum_df)"
   ]
  },
  {
   "cell_type": "code",
   "execution_count": 14,
   "id": "3af68894",
   "metadata": {},
   "outputs": [
    {
     "name": "stdout",
     "output_type": "stream",
     "text": [
      "     Company Code  Account  Customer  Customer.1    Vendor   Vendor1  \\\n",
      "0             122  3010004       NaN         NaN     V0125     V0125   \n",
      "1             122  3010004       NaN         NaN     V0125     V0125   \n",
      "2             122  3010004       NaN         NaN     V0125     V0125   \n",
      "3             122  3010004       NaN         NaN     V0125     V0125   \n",
      "4             122  3010004       NaN         NaN     V0125     V0125   \n",
      "..            ...      ...       ...         ...       ...       ...   \n",
      "735           122  3010008       NaN         NaN  80000170       NaN   \n",
      "736           122  3010008       NaN         NaN  80000170       NaN   \n",
      "737           122  3010008       NaN         NaN  80000170       NaN   \n",
      "738           122  3010008       NaN         NaN  80000170       NaN   \n",
      "739           122  3010008       NaN         NaN  80000170  80000170   \n",
      "\n",
      "         Customer/Vendor Name  Offsetting acct no. Document type  \\\n",
      "0                    NNPC LTD                  NaN            AB   \n",
      "1                    NNPC LTD                  NaN            AB   \n",
      "2                    NNPC LTD                  NaN            AB   \n",
      "3                    NNPC LTD                  NaN            AB   \n",
      "4                    NNPC LTD                  NaN            AB   \n",
      "..                        ...                  ...           ...   \n",
      "735                       NaN                  NaN            KZ   \n",
      "736                       NaN                  NaN            KZ   \n",
      "737                       NaN                  NaN            KZ   \n",
      "738                       NaN                  NaN            KZ   \n",
      "739  DUN & BRADSTREET LIMITED                  NaN            KR   \n",
      "\n",
      "     Document Number  ... Profit Center Purchasing Document  Reference  \\\n",
      "0          100000007  ...    P106001000                 NaN        NaN   \n",
      "1          100000015  ...    P106001000                 NaN        NaN   \n",
      "2          100000046  ...    P106001000                 NaN        NaN   \n",
      "3          100000062  ...    P106001000                 NaN        NaN   \n",
      "4          100000064  ...    P106001000                 NaN        NaN   \n",
      "..               ...  ...           ...                 ...        ...   \n",
      "735       1500000246  ...    P101314000                 NaN        NaN   \n",
      "736       1500000246  ...    P106001000                 NaN        NaN   \n",
      "737       1500000410  ...    P104410000                 NaN        NaN   \n",
      "738       1500000410  ...    P106001000                 NaN        NaN   \n",
      "739       3900000885  ...    P106001000                 NaN       BILL   \n",
      "\n",
      "    Sales Document  Sort key Special G/L ind.  UAP Code  UAP Sub-Code  \\\n",
      "0              NaN       100              NaN       NaN           NaN   \n",
      "1              NaN       100              NaN       NaN           NaN   \n",
      "2              NaN       100              NaN       NaN           NaN   \n",
      "3              NaN       100              NaN       NaN           NaN   \n",
      "4              NaN       100              NaN       NaN           NaN   \n",
      "..             ...       ...              ...       ...           ...   \n",
      "735            NaN        60              NaN       NaN           NaN   \n",
      "736            NaN        60              NaN       NaN           NaN   \n",
      "737            NaN        60              NaN       NaN           NaN   \n",
      "738            NaN        60              NaN       NaN           NaN   \n",
      "739            NaN        60              NaN       NaN           NaN   \n",
      "\n",
      "    User Name  Unnamed: 34  \n",
      "0       18181            V  \n",
      "1       18181            V  \n",
      "2       18181            V  \n",
      "3       18181            V  \n",
      "4       18181            V  \n",
      "..        ...          ...  \n",
      "735     18181            V  \n",
      "736     18181            V  \n",
      "737     18181            V  \n",
      "738     18181            V  \n",
      "739     18181            V  \n",
      "\n",
      "[2841 rows x 35 columns]\n"
     ]
    }
   ],
   "source": [
    "print(all_open_items_df)"
   ]
  },
  {
   "cell_type": "code",
   "execution_count": 15,
   "id": "ee5fd894",
   "metadata": {},
   "outputs": [
    {
     "name": "stdout",
     "output_type": "stream",
     "text": [
      "     Company Code  Account  Customer  Customer.1    Vendor   Vendor1  \\\n",
      "0             122  3010008       NaN         NaN  80001446  80001446   \n",
      "1             122  3010008       NaN         NaN  80001446  80001446   \n",
      "2             122  3010008       NaN         NaN  80001440  80001440   \n",
      "3             122  3010008       NaN         NaN  80001432  80001432   \n",
      "4             122  3010008       NaN         NaN  80001432  80001432   \n",
      "..            ...      ...       ...         ...       ...       ...   \n",
      "735           122  3010008       NaN         NaN  80000170       NaN   \n",
      "736           122  3010008       NaN         NaN  80000170       NaN   \n",
      "737           122  3010008       NaN         NaN  80000170       NaN   \n",
      "738           122  3010008       NaN         NaN  80000170       NaN   \n",
      "739           122  3010008       NaN         NaN  80000170  80000170   \n",
      "\n",
      "         Customer/Vendor Name  Offsetting acct no. Document type  \\\n",
      "0       SOFITEL LUXURY HOTELS                  NaN            ZV   \n",
      "1       SOFITEL LUXURY HOTELS                  NaN            ZV   \n",
      "2    UNIQUE LIMOUSINES L.L.C.                  NaN            ZV   \n",
      "3               ROAMING BY ME                  NaN            ZV   \n",
      "4               ROAMING BY ME                  NaN            ZV   \n",
      "..                        ...                  ...           ...   \n",
      "735                       NaN                  NaN            KZ   \n",
      "736                       NaN                  NaN            KZ   \n",
      "737                       NaN                  NaN            KZ   \n",
      "738                       NaN                  NaN            KZ   \n",
      "739  DUN & BRADSTREET LIMITED                  NaN            KR   \n",
      "\n",
      "     Document Number  ... Profit Center Purchasing Document  Reference  \\\n",
      "0         2000000065  ...    P106001000                 NaN        NaN   \n",
      "1         2000000065  ...    P106001000                 NaN        NaN   \n",
      "2         2000000071  ...    PZ01312000                 NaN        NaN   \n",
      "3         2000000062  ...    P106001000                 NaN        NaN   \n",
      "4         2000000062  ...    P106001000                 NaN        NaN   \n",
      "..               ...  ...           ...                 ...        ...   \n",
      "735       1500000246  ...    P101314000                 NaN        NaN   \n",
      "736       1500000246  ...    P106001000                 NaN        NaN   \n",
      "737       1500000410  ...    P104410000                 NaN        NaN   \n",
      "738       1500000410  ...    P106001000                 NaN        NaN   \n",
      "739       3900000885  ...    P106001000                 NaN       BILL   \n",
      "\n",
      "    Sales Document  Sort key Special G/L ind.  UAP Code  UAP Sub-Code  \\\n",
      "0              NaN        60              NaN       NaN           NaN   \n",
      "1              NaN        60              NaN       NaN           NaN   \n",
      "2              NaN        60              NaN       NaN           NaN   \n",
      "3              NaN        60              NaN       NaN           NaN   \n",
      "4              NaN        60              NaN       NaN           NaN   \n",
      "..             ...       ...              ...       ...           ...   \n",
      "735            NaN        60              NaN       NaN           NaN   \n",
      "736            NaN        60              NaN       NaN           NaN   \n",
      "737            NaN        60              NaN       NaN           NaN   \n",
      "738            NaN        60              NaN       NaN           NaN   \n",
      "739            NaN        60              NaN       NaN           NaN   \n",
      "\n",
      "     User Name  Unnamed: 34  \n",
      "0        18181            V  \n",
      "1        18181            V  \n",
      "2        18181            V  \n",
      "3        18181            V  \n",
      "4        18181            V  \n",
      "..         ...          ...  \n",
      "735      18181            V  \n",
      "736      18181            V  \n",
      "737      18181            V  \n",
      "738      18181            V  \n",
      "739      18181            V  \n",
      "\n",
      "[740 rows x 35 columns]\n"
     ]
    }
   ],
   "source": [
    "print(ungrouped_df)"
   ]
  },
  {
   "cell_type": "code",
   "execution_count": 16,
   "id": "197de3d0",
   "metadata": {},
   "outputs": [
    {
     "name": "stdout",
     "output_type": "stream",
     "text": [
      "     Company Code  Account  Customer  Customer.1    Vendor   Vendor1  \\\n",
      "0             122  3010008       NaN         NaN  80001500       NaN   \n",
      "1             122  3010008       NaN         NaN  80001500  80001500   \n",
      "2             122  3010008       NaN         NaN  80001497       NaN   \n",
      "3             122  3010008       NaN         NaN  80001497  80001497   \n",
      "4             122  3010008       NaN         NaN  80001497       NaN   \n",
      "..            ...      ...       ...         ...       ...       ...   \n",
      "735           122  3010008       NaN         NaN  80000170       NaN   \n",
      "736           122  3010008       NaN         NaN  80000170       NaN   \n",
      "737           122  3010008       NaN         NaN  80000170       NaN   \n",
      "738           122  3010008       NaN         NaN  80000170       NaN   \n",
      "739           122  3010008       NaN         NaN  80000170  80000170   \n",
      "\n",
      "         Customer/Vendor Name  Offsetting acct no. Document type  \\\n",
      "0                         NaN                  NaN            KZ   \n",
      "1              Ecctis Limited                  NaN            KR   \n",
      "2                         NaN                  NaN            KZ   \n",
      "3        West London Plumbing                  NaN            KR   \n",
      "4                         NaN                  NaN            KZ   \n",
      "..                        ...                  ...           ...   \n",
      "735                       NaN                  NaN            KZ   \n",
      "736                       NaN                  NaN            KZ   \n",
      "737                       NaN                  NaN            KZ   \n",
      "738                       NaN                  NaN            KZ   \n",
      "739  DUN & BRADSTREET LIMITED                  NaN            KR   \n",
      "\n",
      "     Document Number  ... Profit Center Purchasing Document  Reference  \\\n",
      "0         1500000681  ...    P106001000                 NaN       BILL   \n",
      "1         3900000657  ...    P106001000                 NaN       BILL   \n",
      "2         1500000617  ...    P106001000                 NaN       BILL   \n",
      "3         3900000592  ...    P106001000                 NaN       BILL   \n",
      "4         1500000820  ...    P106001000                 NaN       BILL   \n",
      "..               ...  ...           ...                 ...        ...   \n",
      "735       1500000246  ...    P101314000                 NaN        NaN   \n",
      "736       1500000246  ...    P106001000                 NaN        NaN   \n",
      "737       1500000410  ...    P104410000                 NaN        NaN   \n",
      "738       1500000410  ...    P106001000                 NaN        NaN   \n",
      "739       3900000885  ...    P106001000                 NaN       BILL   \n",
      "\n",
      "    Sales Document  Sort key Special G/L ind.  UAP Code  UAP Sub-Code  \\\n",
      "0              NaN        60              NaN       NaN           NaN   \n",
      "1              NaN        60              NaN       NaN           NaN   \n",
      "2              NaN        60              NaN       NaN           NaN   \n",
      "3              NaN        60              NaN       NaN           NaN   \n",
      "4              NaN        60              NaN       NaN           NaN   \n",
      "..             ...       ...              ...       ...           ...   \n",
      "735            NaN        60              NaN       NaN           NaN   \n",
      "736            NaN        60              NaN       NaN           NaN   \n",
      "737            NaN        60              NaN       NaN           NaN   \n",
      "738            NaN        60              NaN       NaN           NaN   \n",
      "739            NaN        60              NaN       NaN           NaN   \n",
      "\n",
      "    User Name  Unnamed: 34  \n",
      "0       21468            V  \n",
      "1       21468            V  \n",
      "2       21468            V  \n",
      "3       21468            V  \n",
      "4       21468            V  \n",
      "..        ...          ...  \n",
      "735     18181            V  \n",
      "736     18181            V  \n",
      "737     18181            V  \n",
      "738     18181            V  \n",
      "739     18181            V  \n",
      "\n",
      "[10053 rows x 35 columns]\n"
     ]
    }
   ],
   "source": [
    "print(combined_df)"
   ]
  },
  {
   "cell_type": "code",
   "execution_count": 17,
   "id": "a3b0e651",
   "metadata": {},
   "outputs": [],
   "source": [
    "# Save the combined result in a new Excel file in 3 separate sheets\n",
    "output_file = r'C:\\Users\\20735\\Customers_Data\\Customers_DataC\\0122 Vendors for matching.xlsx'\n",
    "with pd.ExcelWriter(output_file) as writer:\n",
    "    zero_sum_df.to_excel(writer, sheet_name='Cleared items', index=False)\n",
    "    #non_zero_sum_df.to_excel(writer, sheet_name='Open items sorted', index=False)\n",
    "    all_open_items_df.to_excel(writer, sheet_name='All open items', index=False)\n",
    "    combined_df.to_excel(writer, sheet_name='Combined', index=False)\n",
    "    #ungrouped_df.to_excel(writer, sheet_name='Ungrouped items,No parameters', index=False)"
   ]
  },
  {
   "cell_type": "code",
   "execution_count": 18,
   "id": "1638d389",
   "metadata": {},
   "outputs": [
    {
     "name": "stdout",
     "output_type": "stream",
     "text": [
      "C:\\Users\\20735\\Customers_Data\\Customers_DataC\\0122 Vendors for matching.xlsx\n"
     ]
    }
   ],
   "source": [
    "print(output_file)"
   ]
  }
 ],
 "metadata": {
  "kernelspec": {
   "display_name": "Python 3 (ipykernel)",
   "language": "python",
   "name": "python3"
  },
  "language_info": {
   "codemirror_mode": {
    "name": "ipython",
    "version": 3
   },
   "file_extension": ".py",
   "mimetype": "text/x-python",
   "name": "python",
   "nbconvert_exporter": "python",
   "pygments_lexer": "ipython3",
   "version": "3.11.5"
  }
 },
 "nbformat": 4,
 "nbformat_minor": 5
}
